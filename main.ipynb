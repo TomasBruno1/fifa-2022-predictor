{
 "cells": [
  {
   "cell_type": "markdown",
   "source": [
    "Import necessary libraries and load matches dataset"
   ],
   "metadata": {
    "collapsed": false
   }
  },
  {
   "cell_type": "code",
   "execution_count": 2,
   "metadata": {
    "collapsed": true
   },
   "outputs": [],
   "source": [
    "import numpy as np\n",
    "import pandas as pd\n",
    "import matplotlib.pyplot as plt\n",
    "import seaborn as sns\n",
    "\n",
    "matches = pd.read_csv('Datasets/international_matches.csv')"
   ]
  },
  {
   "cell_type": "markdown",
   "source": [
    "Describe the dataset"
   ],
   "metadata": {
    "collapsed": false
   }
  },
  {
   "cell_type": "code",
   "execution_count": 3,
   "outputs": [
    {
     "name": "stdout",
     "output_type": "stream",
     "text": [
      "       home_team_fifa_rank  away_team_fifa_rank  home_team_total_fifa_points  \\\n",
      "count         23921.000000         23921.000000                 23921.000000   \n",
      "mean             77.854688            80.797375                   323.401488   \n",
      "std              52.355225            53.232902                   500.825725   \n",
      "min               1.000000             1.000000                     0.000000   \n",
      "25%              33.000000            36.000000                     0.000000   \n",
      "50%              71.000000            73.000000                     0.000000   \n",
      "75%             115.000000           119.000000                   547.000000   \n",
      "max             211.000000           211.000000                  2164.000000   \n",
      "\n",
      "       away_team_total_fifa_points  home_team_score  away_team_score  \\\n",
      "count                 23921.000000     23921.000000     23921.000000   \n",
      "mean                    315.453576         1.609214         1.068266   \n",
      "std                     490.944273         1.630127         1.263944   \n",
      "min                       0.000000         0.000000         0.000000   \n",
      "25%                       0.000000         0.000000         0.000000   \n",
      "50%                       0.000000         1.000000         1.000000   \n",
      "75%                     523.000000         2.000000         2.000000   \n",
      "max                    2164.000000        31.000000        21.000000   \n",
      "\n",
      "       home_team_goalkeeper_score  away_team_goalkeeper_score  \\\n",
      "count                 8379.000000                 8095.000000   \n",
      "mean                    74.963838                   74.212477   \n",
      "std                      8.212242                    8.225919   \n",
      "min                     47.000000                   47.000000   \n",
      "25%                     70.000000                   69.000000   \n",
      "50%                     75.000000                   74.000000   \n",
      "75%                     81.000000                   80.000000   \n",
      "max                     97.000000                   97.000000   \n",
      "\n",
      "       home_team_mean_defense_score  home_team_mean_offense_score  \\\n",
      "count                   7787.000000                   8510.000000   \n",
      "mean                      74.903249                     75.818743   \n",
      "std                        6.003114                      6.268416   \n",
      "min                       52.800000                     53.300000   \n",
      "25%                       71.000000                     71.700000   \n",
      "50%                       75.200000                     75.700000   \n",
      "75%                       78.800000                     80.000000   \n",
      "max                       91.800000                     93.000000   \n",
      "\n",
      "       home_team_mean_midfield_score  away_team_mean_defense_score  \\\n",
      "count                    8162.000000                   7564.000000   \n",
      "mean                       75.889292                     74.424379   \n",
      "std                         6.053110                      5.937425   \n",
      "min                        54.200000                     52.800000   \n",
      "25%                        72.500000                     70.500000   \n",
      "50%                        76.200000                     74.500000   \n",
      "75%                        79.500000                     78.200000   \n",
      "max                        93.200000                     91.800000   \n",
      "\n",
      "       away_team_mean_offense_score  away_team_mean_midfield_score  \n",
      "count                   8312.000000                    7979.000000  \n",
      "mean                      75.420019                      75.259143  \n",
      "std                        6.201906                       6.124573  \n",
      "min                       53.300000                      54.200000  \n",
      "25%                       71.300000                      71.800000  \n",
      "50%                       75.300000                      75.500000  \n",
      "75%                       79.700000                      79.000000  \n",
      "max                       93.000000                      93.200000  \n",
      "----------------------------------------\n",
      "         date home_team     away_team home_team_continent away_team_continent  \\\n",
      "0  1993-08-08   Bolivia       Uruguay       South America       South America   \n",
      "1  1993-08-08    Brazil        Mexico       South America       North America   \n",
      "2  1993-08-08   Ecuador     Venezuela       South America       South America   \n",
      "3  1993-08-08    Guinea  Sierra Leone              Africa              Africa   \n",
      "4  1993-08-08  Paraguay     Argentina       South America       South America   \n",
      "\n",
      "   home_team_fifa_rank  away_team_fifa_rank  home_team_total_fifa_points  \\\n",
      "0                   59                   22                            0   \n",
      "1                    8                   14                            0   \n",
      "2                   35                   94                            0   \n",
      "3                   65                   86                            0   \n",
      "4                   67                    5                            0   \n",
      "\n",
      "   away_team_total_fifa_points  home_team_score  ...  shoot_out  \\\n",
      "0                            0                3  ...         No   \n",
      "1                            0                1  ...         No   \n",
      "2                            0                5  ...         No   \n",
      "3                            0                1  ...         No   \n",
      "4                            0                1  ...         No   \n",
      "\n",
      "  home_team_result home_team_goalkeeper_score away_team_goalkeeper_score  \\\n",
      "0              Win                        NaN                        NaN   \n",
      "1             Draw                        NaN                        NaN   \n",
      "2              Win                        NaN                        NaN   \n",
      "3              Win                        NaN                        NaN   \n",
      "4             Lose                        NaN                        NaN   \n",
      "\n",
      "   home_team_mean_defense_score home_team_mean_offense_score  \\\n",
      "0                           NaN                          NaN   \n",
      "1                           NaN                          NaN   \n",
      "2                           NaN                          NaN   \n",
      "3                           NaN                          NaN   \n",
      "4                           NaN                          NaN   \n",
      "\n",
      "  home_team_mean_midfield_score  away_team_mean_defense_score  \\\n",
      "0                           NaN                           NaN   \n",
      "1                           NaN                           NaN   \n",
      "2                           NaN                           NaN   \n",
      "3                           NaN                           NaN   \n",
      "4                           NaN                           NaN   \n",
      "\n",
      "   away_team_mean_offense_score  away_team_mean_midfield_score  \n",
      "0                           NaN                            NaN  \n",
      "1                           NaN                            NaN  \n",
      "2                           NaN                            NaN  \n",
      "3                           NaN                            NaN  \n",
      "4                           NaN                            NaN  \n",
      "\n",
      "[5 rows x 25 columns]\n",
      "             date       home_team away_team home_team_continent  \\\n",
      "23916  2022-06-14         Moldova   Andorra              Europe   \n",
      "23917  2022-06-14   Liechtenstein    Latvia              Europe   \n",
      "23918  2022-06-14           Chile     Ghana       South America   \n",
      "23919  2022-06-14           Japan   Tunisia                Asia   \n",
      "23920  2022-06-14  Korea Republic     Egypt                Asia   \n",
      "\n",
      "      away_team_continent  home_team_fifa_rank  away_team_fifa_rank  \\\n",
      "23916              Europe                  180                  153   \n",
      "23917              Europe                  192                  135   \n",
      "23918              Africa                   28                   60   \n",
      "23919              Africa                   23                   35   \n",
      "23920              Africa                   29                   32   \n",
      "\n",
      "       home_team_total_fifa_points  away_team_total_fifa_points  \\\n",
      "23916                          932                         1040   \n",
      "23917                          895                         1105   \n",
      "23918                         1526                         1387   \n",
      "23919                         1553                         1499   \n",
      "23920                         1519                         1500   \n",
      "\n",
      "       home_team_score  ...  shoot_out home_team_result  \\\n",
      "23916                2  ...         No              Win   \n",
      "23917                0  ...         No             Lose   \n",
      "23918                0  ...        Yes             Lose   \n",
      "23919                0  ...         No             Lose   \n",
      "23920                4  ...         No              Win   \n",
      "\n",
      "      home_team_goalkeeper_score away_team_goalkeeper_score  \\\n",
      "23916                       65.0                        NaN   \n",
      "23917                        NaN                       65.0   \n",
      "23918                       79.0                       74.0   \n",
      "23919                       73.0                        NaN   \n",
      "23920                       75.0                        NaN   \n",
      "\n",
      "       home_team_mean_defense_score home_team_mean_offense_score  \\\n",
      "23916                           NaN                          NaN   \n",
      "23917                           NaN                          NaN   \n",
      "23918                          75.5                         76.7   \n",
      "23919                          75.2                         75.0   \n",
      "23920                          73.0                         80.0   \n",
      "\n",
      "      home_team_mean_midfield_score  away_team_mean_defense_score  \\\n",
      "23916                           NaN                           NaN   \n",
      "23917                           NaN                           NaN   \n",
      "23918                          78.2                          75.5   \n",
      "23919                          77.5                          70.8   \n",
      "23920                          73.8                           NaN   \n",
      "\n",
      "       away_team_mean_offense_score  away_team_mean_midfield_score  \n",
      "23916                           NaN                            NaN  \n",
      "23917                           NaN                            NaN  \n",
      "23918                          76.0                           78.2  \n",
      "23919                          72.3                           74.0  \n",
      "23920                          79.3                           70.8  \n",
      "\n",
      "[5 rows x 25 columns]\n",
      "(23921, 25)\n",
      "----------------------------------------\n",
      "['date', 'home_team', 'away_team', 'home_team_continent', 'away_team_continent', 'home_team_fifa_rank', 'away_team_fifa_rank', 'home_team_total_fifa_points', 'away_team_total_fifa_points', 'home_team_score', 'away_team_score', 'tournament', 'city', 'country', 'neutral_location', 'shoot_out', 'home_team_result', 'home_team_goalkeeper_score', 'away_team_goalkeeper_score', 'home_team_mean_defense_score', 'home_team_mean_offense_score', 'home_team_mean_midfield_score', 'away_team_mean_defense_score', 'away_team_mean_offense_score', 'away_team_mean_midfield_score']\n",
      "----------------------------------------\n"
     ]
    }
   ],
   "source": [
    "# EDA\n",
    "print(matches.describe())\n",
    "print('----------------------------------------')\n",
    "\n",
    "# Observing total number of rows and columns in the dataset\n",
    "print(matches.head())\n",
    "print(matches.tail())\n",
    "print(matches.shape)  # (23921, 25)\n",
    "print('----------------------------------------')\n",
    "\n",
    "# Observing all the columns in the dataset\n",
    "print(list(matches))\n",
    "print('----------------------------------------')"
   ],
   "metadata": {
    "collapsed": false
   }
  },
  {
   "cell_type": "markdown",
   "source": [
    "Give ids to team names"
   ],
   "metadata": {
    "collapsed": false
   }
  },
  {
   "cell_type": "code",
   "execution_count": 4,
   "outputs": [
    {
     "data": {
      "text/plain": "{'Bolivia': 0,\n 'Uruguay': 1,\n 'Brazil': 2,\n 'Mexico': 3,\n 'Ecuador': 4,\n 'Venezuela': 5,\n 'Guinea': 6,\n 'Sierra Leone': 7,\n 'Paraguay': 8,\n 'Argentina': 9,\n 'Peru': 10,\n 'Colombia': 11,\n 'Zimbabwe': 12,\n 'Eswatini': 13,\n 'Faroe Islands': 14,\n 'Norway': 15,\n 'Sweden': 16,\n 'Switzerland': 17,\n 'Australia': 18,\n 'Canada': 19,\n 'Congo': 20,\n 'France': 21,\n 'Austria': 22,\n 'Finland': 23,\n 'Denmark': 24,\n 'Lithuania': 25,\n 'Iceland': 26,\n 'USA': 27,\n 'Estonia': 28,\n 'Portugal': 29,\n 'Albania': 30,\n 'Bulgaria': 31,\n 'England': 32,\n 'Poland': 33,\n 'Romania': 34,\n 'Hungary': 35,\n 'Russia': 36,\n 'Luxembourg': 37,\n 'Republic of Ireland': 38,\n 'Northern Ireland': 39,\n 'Latvia': 40,\n 'Scotland': 41,\n 'Spain': 42,\n 'Chile': 43,\n 'Morocco': 44,\n 'Mali': 45,\n 'Saudi Arabia': 46,\n 'Thailand': 47,\n 'Senegal': 48,\n 'Italy': 49,\n 'Cameroon': 50,\n 'Israel': 51,\n 'San Marino': 52,\n 'Netherlands': 53,\n 'Tunisia': 54,\n 'Germany': 55,\n 'Costa Rica': 56,\n 'Korea Republic': 57,\n 'Nigeria': 58,\n \"Côte d'Ivoire\": 59,\n 'Zambia': 60,\n 'Gabon': 61,\n 'Japan': 62,\n 'Cyprus': 63,\n 'Belgium': 64,\n 'South Africa': 65,\n 'Algeria': 66,\n 'Greece': 67,\n 'Wales': 68,\n 'Korea DPR': 69,\n 'Iraq': 70,\n 'IR Iran': 71,\n 'Ukraine': 72,\n 'Burundi': 73,\n 'Liechtenstein': 74,\n 'United Arab Emirates': 75,\n 'Jordan': 76,\n 'Turkey': 77,\n 'China PR': 78,\n 'Egypt': 79,\n 'Malta': 80,\n 'Jamaica': 81,\n 'Cayman Islands': 82,\n 'Gambia': 83,\n 'Mauritania': 84,\n 'Ghana': 85,\n 'Guinea-Bissau': 86,\n 'Tahiti': 87,\n 'Fiji': 88,\n 'Kenya': 89,\n 'Uganda': 90,\n 'El Salvador': 91,\n 'Tanzania': 92,\n 'Bangladesh': 93,\n 'Myanmar': 94,\n 'Barbados': 95,\n 'Grenada': 96,\n 'Burkina Faso': 97,\n 'Puerto Rico': 98,\n 'Suriname': 99,\n 'Guyana': 100,\n 'Qatar': 101,\n 'Niger': 102,\n 'Oman': 103,\n 'Slovakia': 104,\n 'Slovenia': 105,\n 'Malawi': 106,\n 'Dominican Republic': 107,\n 'Haiti': 108,\n 'Angola': 109,\n 'Croatia': 110,\n 'Trinidad and Tobago': 111,\n 'Czech Republic': 112,\n 'Mozambique': 113,\n 'Kuwait': 114,\n 'Honduras': 115,\n 'Belarus': 116,\n 'North Macedonia': 117,\n 'Liberia': 118,\n 'Georgia': 119,\n 'Botswana': 120,\n 'Namibia': 121,\n 'Solomon Islands': 122,\n 'Vanuatu': 123,\n 'Armenia': 124,\n 'Togo': 125,\n 'Ethiopia': 126,\n 'Madagascar': 127,\n 'Sudan': 128,\n 'Moldova': 129,\n 'Azerbaijan': 130,\n 'India': 131,\n 'Yemen': 132,\n 'Malaysia': 133,\n 'Bahrain': 134,\n 'Mauritius': 135,\n 'Lesotho': 136,\n 'Seychelles': 137,\n 'Vietnam': 138,\n 'Hong Kong': 139,\n 'New Zealand': 140,\n 'Singapore': 141,\n 'Uzbekistan': 142,\n 'St. Kitts and Nevis': 143,\n 'Cuba': 144,\n 'St. Lucia': 145,\n 'Nepal': 146,\n 'Pakistan': 147,\n 'Lebanon': 148,\n 'Sri Lanka': 149,\n 'Syria': 150,\n 'Benin': 151,\n 'Antigua and Barbuda': 152,\n 'St. Vincent and the Grenadines': 153,\n 'Indonesia': 154,\n 'Panama': 155,\n 'Nicaragua': 156,\n 'Cabo Verde': 157,\n 'Dominica': 158,\n 'Guatemala': 159,\n 'Somalia': 160,\n 'Kazakhstan': 161,\n 'Kyrgyz Republic': 162,\n 'Macau': 163,\n 'Philippines': 164,\n 'Turkmenistan': 165,\n 'Aruba': 166,\n 'Tajikistan': 167,\n 'Belize': 168,\n 'Rwanda': 169,\n 'Maldives': 170,\n 'Chinese Taipei': 171,\n 'Bosnia and Herzegovina': 172,\n 'Cambodia': 173,\n 'Laos': 174,\n 'Brunei Darussalam': 175,\n 'Central African Republic': 176,\n 'Tonga': 177,\n 'Bermuda': 178,\n 'Libya': 179,\n 'Papua New Guinea': 180,\n 'Andorra': 181,\n 'Chad': 182,\n 'British Virgin Islands': 183,\n 'Anguilla': 184,\n 'Djibouti': 185,\n 'Equatorial Guinea': 186,\n 'Cook Islands': 187,\n 'Samoa': 188,\n 'Eritrea': 189,\n 'Bahamas': 190,\n 'São Tomé and Príncipe': 191,\n 'Guam': 192,\n 'Congo DR': 193,\n 'US Virgin Islands': 194,\n 'Mongolia': 195,\n 'Montserrat': 196,\n 'Turks and Caicos Islands': 197,\n 'Palestine': 198,\n 'American Samoa': 199,\n 'Bhutan': 200,\n 'Afghanistan': 201,\n 'Serbia': 202,\n 'New Caledonia': 203,\n 'Montenegro': 204,\n 'Comoros': 205,\n 'Timor-Leste': 206,\n 'Curaçao': 207,\n 'South Sudan': 208,\n 'Kosovo': 209,\n 'Gibraltar': 210}"
     },
     "execution_count": 4,
     "metadata": {},
     "output_type": "execute_result"
    }
   ],
   "source": [
    "team_name = {}\n",
    "index = 0\n",
    "for idx, row in matches.iterrows():\n",
    "    name = row['home_team']\n",
    "    if name not in team_name.keys():\n",
    "        team_name[name] = index\n",
    "        index += 1\n",
    "\n",
    "    name = row['away_team']\n",
    "    if name not in team_name.keys():\n",
    "        team_name[name] = index\n",
    "        index += 1\n",
    "team_name"
   ],
   "metadata": {
    "collapsed": false
   }
  },
  {
   "cell_type": "markdown",
   "source": [
    "Remove missing values"
   ],
   "metadata": {
    "collapsed": false
   }
  },
  {
   "cell_type": "code",
   "execution_count": 5,
   "outputs": [
    {
     "name": "stdout",
     "output_type": "stream",
     "text": [
      "             date home_team             away_team home_team_continent  \\\n",
      "188    1994-01-25     Qatar               Finland                Asia   \n",
      "192    1994-01-27     Qatar               Finland                Asia   \n",
      "508    1994-09-10     Qatar                  Oman                Asia   \n",
      "515    1994-09-16     Qatar                 Yemen                Asia   \n",
      "577    1994-11-09     Qatar                  Oman                Asia   \n",
      "...           ...       ...                   ...                 ...   \n",
      "23338  2021-12-10     Qatar  United Arab Emirates                Asia   \n",
      "23343  2021-12-15     Qatar               Algeria                Asia   \n",
      "23344  2021-12-18     Qatar                 Egypt                Asia   \n",
      "23550  2022-03-26     Qatar              Bulgaria                Asia   \n",
      "23615  2022-03-29     Qatar              Slovenia                Asia   \n",
      "\n",
      "      away_team_continent  home_team_fifa_rank  away_team_fifa_rank  \\\n",
      "188                Europe                   54                   45   \n",
      "192                Europe                   54                   45   \n",
      "508                  Asia                   67                   77   \n",
      "515                  Asia                   71                  109   \n",
      "577                  Asia                   60                   65   \n",
      "...                   ...                  ...                  ...   \n",
      "23338                Asia                   51                   70   \n",
      "23343              Africa                   51                   32   \n",
      "23344              Africa                   51                   45   \n",
      "23550              Europe                   52                   71   \n",
      "23615              Europe                   52                   64   \n",
      "\n",
      "       home_team_total_fifa_points  away_team_total_fifa_points  \\\n",
      "188                              0                            0   \n",
      "192                              0                            0   \n",
      "508                              0                            0   \n",
      "515                              0                            0   \n",
      "577                              0                            0   \n",
      "...                            ...                          ...   \n",
      "23338                         1431                         1350   \n",
      "23343                         1431                         1508   \n",
      "23344                         1431                         1449   \n",
      "23550                         1437                         1345   \n",
      "23615                         1437                         1375   \n",
      "\n",
      "       home_team_score  ...  shoot_out home_team_result  \\\n",
      "188                  1  ...         No              Win   \n",
      "192                  0  ...         No             Draw   \n",
      "508                  0  ...         No             Lose   \n",
      "515                  2  ...         No              Win   \n",
      "577                  4  ...         No              Win   \n",
      "...                ...  ...        ...              ...   \n",
      "23338                5  ...         No              Win   \n",
      "23343                1  ...         No             Lose   \n",
      "23344                0  ...        Yes              Win   \n",
      "23550                2  ...         No              Win   \n",
      "23615                0  ...         No             Draw   \n",
      "\n",
      "      home_team_goalkeeper_score away_team_goalkeeper_score  \\\n",
      "188                          NaN                        NaN   \n",
      "192                          NaN                        NaN   \n",
      "508                          NaN                        NaN   \n",
      "515                          NaN                        NaN   \n",
      "577                          NaN                        NaN   \n",
      "...                          ...                        ...   \n",
      "23338                        NaN                       70.0   \n",
      "23343                        NaN                       78.0   \n",
      "23344                        NaN                        NaN   \n",
      "23550                        NaN                       66.0   \n",
      "23615                        NaN                       91.0   \n",
      "\n",
      "       home_team_mean_defense_score home_team_mean_offense_score  \\\n",
      "188                             NaN                          NaN   \n",
      "192                             NaN                          NaN   \n",
      "508                             NaN                          NaN   \n",
      "515                             NaN                          NaN   \n",
      "577                             NaN                          NaN   \n",
      "...                             ...                          ...   \n",
      "23338                           NaN                          NaN   \n",
      "23343                           NaN                          NaN   \n",
      "23344                           NaN                          NaN   \n",
      "23550                           NaN                          NaN   \n",
      "23615                           NaN                          NaN   \n",
      "\n",
      "      home_team_mean_midfield_score  away_team_mean_defense_score  \\\n",
      "188                             NaN                           NaN   \n",
      "192                             NaN                           NaN   \n",
      "508                             NaN                           NaN   \n",
      "515                             NaN                           NaN   \n",
      "577                             NaN                           NaN   \n",
      "...                             ...                           ...   \n",
      "23338                           NaN                          63.0   \n",
      "23343                           NaN                          78.0   \n",
      "23344                           NaN                           NaN   \n",
      "23550                           NaN                          67.2   \n",
      "23615                           NaN                          73.0   \n",
      "\n",
      "       away_team_mean_offense_score  away_team_mean_midfield_score  \n",
      "188                             NaN                            NaN  \n",
      "192                             NaN                            NaN  \n",
      "508                             NaN                            NaN  \n",
      "515                             NaN                            NaN  \n",
      "577                             NaN                            NaN  \n",
      "...                             ...                            ...  \n",
      "23338                          64.3                           67.0  \n",
      "23343                          81.0                           78.0  \n",
      "23344                          79.3                           70.8  \n",
      "23550                          64.3                           64.5  \n",
      "23615                          77.0                           76.2  \n",
      "\n",
      "[249 rows x 25 columns]\n"
     ]
    }
   ],
   "source": [
    "print(matches[matches[\"home_team\"] == \"Qatar\"])"
   ],
   "metadata": {
    "collapsed": false
   }
  },
  {
   "cell_type": "code",
   "execution_count": 6,
   "outputs": [
    {
     "name": "stdout",
     "output_type": "stream",
     "text": [
      "date                                 0\n",
      "home_team                            0\n",
      "away_team                            0\n",
      "home_team_continent                  0\n",
      "away_team_continent                  0\n",
      "home_team_fifa_rank                  0\n",
      "away_team_fifa_rank                  0\n",
      "home_team_total_fifa_points          0\n",
      "away_team_total_fifa_points          0\n",
      "home_team_score                      0\n",
      "away_team_score                      0\n",
      "tournament                           0\n",
      "city                                 0\n",
      "country                              0\n",
      "neutral_location                     0\n",
      "shoot_out                            0\n",
      "home_team_result                     0\n",
      "home_team_goalkeeper_score       15542\n",
      "away_team_goalkeeper_score       15826\n",
      "home_team_mean_defense_score     16134\n",
      "home_team_mean_offense_score     15411\n",
      "home_team_mean_midfield_score    15759\n",
      "away_team_mean_defense_score     16357\n",
      "away_team_mean_offense_score     15609\n",
      "away_team_mean_midfield_score    15942\n",
      "dtype: int64\n",
      "----------------------------------------\n",
      "(4303, 25)\n"
     ]
    }
   ],
   "source": [
    "# Finding Missing Values\n",
    "print(matches.isnull().sum())\n",
    "print('----------------------------------------')\n",
    "\n",
    "# Drop all rows with missing values\n",
    "matches = matches.dropna()\n",
    "print(matches.shape)  # (4303, 25)"
   ],
   "metadata": {
    "collapsed": false
   }
  },
  {
   "cell_type": "code",
   "execution_count": 7,
   "outputs": [
    {
     "name": "stdout",
     "output_type": "stream",
     "text": [
      "Empty DataFrame\n",
      "Columns: [date, home_team, away_team, home_team_continent, away_team_continent, home_team_fifa_rank, away_team_fifa_rank, home_team_total_fifa_points, away_team_total_fifa_points, home_team_score, away_team_score, tournament, city, country, neutral_location, shoot_out, home_team_result, home_team_goalkeeper_score, away_team_goalkeeper_score, home_team_mean_defense_score, home_team_mean_offense_score, home_team_mean_midfield_score, away_team_mean_defense_score, away_team_mean_offense_score, away_team_mean_midfield_score]\n",
      "Index: []\n",
      "\n",
      "[0 rows x 25 columns]\n"
     ]
    }
   ],
   "source": [
    "print(matches[matches[\"home_team\"] == \"Qatar\"])"
   ],
   "metadata": {
    "collapsed": false
   }
  },
  {
   "cell_type": "code",
   "execution_count": 8,
   "outputs": [
    {
     "name": "stdout",
     "output_type": "stream",
     "text": [
      "date                             1950\n",
      "home_team                        1950\n",
      "away_team                        1950\n",
      "home_team_continent              1950\n",
      "away_team_continent              1950\n",
      "home_team_fifa_rank              1950\n",
      "away_team_fifa_rank              1950\n",
      "home_team_total_fifa_points      1950\n",
      "away_team_total_fifa_points      1950\n",
      "home_team_score                  1950\n",
      "away_team_score                  1950\n",
      "tournament                       1950\n",
      "city                             1950\n",
      "country                          1950\n",
      "neutral_location                 1950\n",
      "shoot_out                        1950\n",
      "home_team_result                 1950\n",
      "home_team_goalkeeper_score       1950\n",
      "away_team_goalkeeper_score       1950\n",
      "home_team_mean_defense_score     1950\n",
      "home_team_mean_offense_score     1950\n",
      "home_team_mean_midfield_score    1950\n",
      "away_team_mean_defense_score     1950\n",
      "away_team_mean_offense_score     1950\n",
      "away_team_mean_midfield_score    1950\n",
      "dtype: int64 date                             1263\n",
      "home_team                        1263\n",
      "away_team                        1263\n",
      "home_team_continent              1263\n",
      "away_team_continent              1263\n",
      "home_team_fifa_rank              1263\n",
      "away_team_fifa_rank              1263\n",
      "home_team_total_fifa_points      1263\n",
      "away_team_total_fifa_points      1263\n",
      "home_team_score                  1263\n",
      "away_team_score                  1263\n",
      "tournament                       1263\n",
      "city                             1263\n",
      "country                          1263\n",
      "neutral_location                 1263\n",
      "shoot_out                        1263\n",
      "home_team_result                 1263\n",
      "home_team_goalkeeper_score       1263\n",
      "away_team_goalkeeper_score       1263\n",
      "home_team_mean_defense_score     1263\n",
      "home_team_mean_offense_score     1263\n",
      "home_team_mean_midfield_score    1263\n",
      "away_team_mean_defense_score     1263\n",
      "away_team_mean_offense_score     1263\n",
      "away_team_mean_midfield_score    1263\n",
      "dtype: int64 date                             1090\n",
      "home_team                        1090\n",
      "away_team                        1090\n",
      "home_team_continent              1090\n",
      "away_team_continent              1090\n",
      "home_team_fifa_rank              1090\n",
      "away_team_fifa_rank              1090\n",
      "home_team_total_fifa_points      1090\n",
      "away_team_total_fifa_points      1090\n",
      "home_team_score                  1090\n",
      "away_team_score                  1090\n",
      "tournament                       1090\n",
      "city                             1090\n",
      "country                          1090\n",
      "neutral_location                 1090\n",
      "shoot_out                        1090\n",
      "home_team_result                 1090\n",
      "home_team_goalkeeper_score       1090\n",
      "away_team_goalkeeper_score       1090\n",
      "home_team_mean_defense_score     1090\n",
      "home_team_mean_offense_score     1090\n",
      "home_team_mean_midfield_score    1090\n",
      "away_team_mean_defense_score     1090\n",
      "away_team_mean_offense_score     1090\n",
      "away_team_mean_midfield_score    1090\n",
      "dtype: int64\n"
     ]
    }
   ],
   "source": [
    "wins = matches[matches[\"home_team_result\"] == \"Win\"].count()\n",
    "loses = matches[matches[\"home_team_result\"] == \"Lose\"].count()\n",
    "draws = matches[matches[\"home_team_result\"] == \"Draw\"].count()\n",
    "\n",
    "print(wins, loses, draws)"
   ],
   "metadata": {
    "collapsed": false
   }
  },
  {
   "cell_type": "markdown",
   "source": [
    "Find out how many matches each continent wins in contrast to their total matches played"
   ],
   "metadata": {
    "collapsed": false
   }
  },
  {
   "cell_type": "code",
   "execution_count": 9,
   "outputs": [
    {
     "data": {
      "text/plain": "<Figure size 640x480 with 1 Axes>",
      "image/png": "[encoded data removed]"
     },
     "metadata": {},
     "output_type": "display_data"
    }
   ],
   "source": [
    "continent_rows = matches[\"home_team_continent\"]\n",
    "continent_match_count = continent_rows.value_counts()\n",
    "\n",
    "# find how many games each continent won\n",
    "continent_wins = matches[matches[\"home_team_result\"] == \"Win\"]\n",
    "continent_wins = continent_wins[\"home_team_continent\"].value_counts()\n",
    "\n",
    "# plot the number of wins for each continent divided by the number of games played\n",
    "continent_wins = continent_wins / continent_match_count\n",
    "sns.barplot(x=continent_wins.index, y=continent_wins.values)\n",
    "plt.show()"
   ],
   "metadata": {
    "collapsed": false
   }
  },
  {
   "cell_type": "markdown",
   "source": [
    "Study which countries have the best offense, defense, midfield and goalkeeper scores"
   ],
   "metadata": {
    "collapsed": false
   }
  },
  {
   "cell_type": "code",
   "execution_count": 10,
   "outputs": [
    {
     "data": {
      "text/plain": "       offense midfield  defense goalkeeper  overall\n1    Argentina    Spain   Brazil    Germany    Spain\n2       Brazil   France    Spain      Spain  Germany\n3        Spain  Germany    Italy      Italy   Brazil\n4       France   Brazil  Germany     France   France\n5  Netherlands  England  England     Brazil    Italy",
      "text/html": "<div>\n<style scoped>\n    .dataframe tbody tr th:only-of-type {\n        vertical-align: middle;\n    }\n\n    .dataframe tbody tr th {\n        vertical-align: top;\n    }\n\n    .dataframe thead th {\n        text-align: right;\n    }\n</style>\n<table border=\"1\" class=\"dataframe\">\n  <thead>\n    <tr style=\"text-align: right;\">\n      <th></th>\n      <th>offense</th>\n      <th>midfield</th>\n      <th>defense</th>\n      <th>goalkeeper</th>\n      <th>overall</th>\n    </tr>\n  </thead>\n  <tbody>\n    <tr>\n      <th>1</th>\n      <td>Argentina</td>\n      <td>Spain</td>\n      <td>Brazil</td>\n      <td>Germany</td>\n      <td>Spain</td>\n    </tr>\n    <tr>\n      <th>2</th>\n      <td>Brazil</td>\n      <td>France</td>\n      <td>Spain</td>\n      <td>Spain</td>\n      <td>Germany</td>\n    </tr>\n    <tr>\n      <th>3</th>\n      <td>Spain</td>\n      <td>Germany</td>\n      <td>Italy</td>\n      <td>Italy</td>\n      <td>Brazil</td>\n    </tr>\n    <tr>\n      <th>4</th>\n      <td>France</td>\n      <td>Brazil</td>\n      <td>Germany</td>\n      <td>France</td>\n      <td>France</td>\n    </tr>\n    <tr>\n      <th>5</th>\n      <td>Netherlands</td>\n      <td>England</td>\n      <td>England</td>\n      <td>Brazil</td>\n      <td>Italy</td>\n    </tr>\n  </tbody>\n</table>\n</div>"
     },
     "execution_count": 10,
     "metadata": {},
     "output_type": "execute_result"
    }
   ],
   "source": [
    "offense = matches.groupby(\"home_team\")[\"home_team_mean_offense_score\"].mean().sort_values(ascending=False)\n",
    "midfield = matches.groupby(\"home_team\")[\"home_team_mean_midfield_score\"].mean().sort_values(ascending=False)\n",
    "defense = matches.groupby(\"home_team\")[\"home_team_mean_defense_score\"].mean().sort_values(ascending=False)\n",
    "goalkeeper = matches.groupby(\"home_team\")[\"home_team_goalkeeper_score\"].mean().sort_values(ascending=False)\n",
    "\n",
    "# find the mean of all categories\n",
    "overall = ((offense + midfield + defense + goalkeeper) / 4).sort_values(ascending=False)\n",
    "\n",
    "# make a table with 5 rows and a column for each category\n",
    "table = pd.DataFrame(index=range(1, 6), columns=[\"offense\", \"midfield\", \"defense\", \"goalkeeper\", \"overall\"])\n",
    "\n",
    "# fill the table with the mean values for each category\n",
    "table[\"offense\"] = offense.index[:5]\n",
    "table[\"midfield\"] = midfield.index[:5]\n",
    "table[\"defense\"] = defense.index[:5]\n",
    "table[\"goalkeeper\"] = goalkeeper.index[:5]\n",
    "table[\"overall\"] = overall.index[:5]\n",
    "\n",
    "table"
   ],
   "metadata": {
    "collapsed": false
   }
  },
  {
   "cell_type": "markdown",
   "source": [
    "Import sklearn libraries"
   ],
   "metadata": {
    "collapsed": false
   }
  },
  {
   "cell_type": "code",
   "execution_count": 11,
   "outputs": [],
   "source": [
    "from sklearn.model_selection import train_test_split\n",
    "from sklearn.utils import shuffle\n",
    "\n",
    "from sklearn.model_selection import GridSearchCV\n"
   ],
   "metadata": {
    "collapsed": false
   }
  },
  {
   "cell_type": "markdown",
   "source": [
    "Give ids to tournament names"
   ],
   "metadata": {
    "collapsed": false
   }
  },
  {
   "cell_type": "code",
   "execution_count": 12,
   "outputs": [
    {
     "data": {
      "text/plain": "{'Friendly': 0,\n 'FIFA World Cup qualification': 1,\n \"King's Cup\": 2,\n 'Confederations Cup': 3,\n 'Gold Cup': 4,\n 'EAFF Championship': 5,\n 'African Cup of Nations': 6,\n 'Lunar New Year Cup': 7,\n 'Cyprus International Tournament': 8,\n 'Kirin Cup': 9,\n 'FIFA World Cup': 10,\n 'UEFA Euro qualification': 11,\n 'Copa América': 12,\n 'UEFA Euro': 13,\n 'African Cup of Nations qualification': 14,\n 'AFC Asian Cup': 15,\n 'Nations Cup': 16,\n 'Copa Confraternidad': 17,\n 'Superclásico de las Américas': 18,\n 'Copa del Pacífico': 19,\n 'Nehru Cup': 20,\n 'Kirin Challenge Cup': 21,\n 'African Nations Championship': 22,\n 'OSN Cup': 23,\n 'Intercontinental Cup': 24,\n 'UEFA Nations League': 25,\n 'African Nations Championship qualification': 26,\n 'CONCACAF Nations League': 27,\n 'COSAFA Cup': 28,\n 'Arab Cup': 29,\n 'CONMEBOL–UEFA Cup of Champions': 30}"
     },
     "execution_count": 12,
     "metadata": {},
     "output_type": "execute_result"
    }
   ],
   "source": [
    "tournament_names = {}\n",
    "index = 0\n",
    "for idx, row in matches.iterrows():\n",
    "    name = row['tournament']\n",
    "    if name not in tournament_names.keys():\n",
    "        tournament_names[name] = index\n",
    "        index += 1\n",
    "\n",
    "    name = row['tournament']\n",
    "    if name not in tournament_names.keys():\n",
    "        tournament_names[name] = index\n",
    "        index += 1\n",
    "\n",
    "tournament_names"
   ],
   "metadata": {
    "collapsed": false
   }
  },
  {
   "cell_type": "markdown",
   "source": [
    "Add Winner column"
   ],
   "metadata": {
    "collapsed": false
   }
  },
  {
   "cell_type": "code",
   "execution_count": 13,
   "outputs": [],
   "source": [
    "# Winner of particular match\n",
    "# For Home team win value is 1, Away team win value is 2 and for Draw value is 0\n",
    "matches['Winner'] = '-'\n",
    "\n",
    "def match_winner(df):\n",
    "    if int(df['home_team_score']) == int(df['away_team_score']):\n",
    "        df['Winner'] = 0\n",
    "    elif int(df['home_team_score']) > int(df['away_team_score']):\n",
    "        df['Winner'] = 1\n",
    "    else:\n",
    "        df['Winner'] = 2\n",
    "\n",
    "    return df\n",
    "\n",
    "matches = matches.apply(match_winner, axis = 1)"
   ],
   "metadata": {
    "collapsed": false
   }
  },
  {
   "cell_type": "markdown",
   "source": [
    "Drop irrelevant columns"
   ],
   "metadata": {
    "collapsed": false
   }
  },
  {
   "cell_type": "code",
   "execution_count": 14,
   "outputs": [],
   "source": [
    "matches = matches.drop(columns = ['home_team_total_fifa_points', 'away_team_total_fifa_points', 'home_team_continent', 'away_team_continent', 'country', 'city', 'shoot_out', 'home_team_result', 'home_team_score', 'away_team_score'])"
   ],
   "metadata": {
    "collapsed": false
   }
  },
  {
   "cell_type": "markdown",
   "source": [
    "Replace strings with ids"
   ],
   "metadata": {
    "collapsed": false
   }
  },
  {
   "cell_type": "code",
   "execution_count": 15,
   "outputs": [],
   "source": [
    "# Replace Team names by corresponding id:\n",
    "def replace_name(df):\n",
    "    df['home_team'] = team_name[df['home_team']]\n",
    "    df['away_team'] = team_name[df['away_team']]\n",
    "\n",
    "    return df\n",
    "\n",
    "matches = matches.apply(replace_name, axis = 1)"
   ],
   "metadata": {
    "collapsed": false
   }
  },
  {
   "cell_type": "code",
   "execution_count": 16,
   "outputs": [],
   "source": [
    "# Replace Tournament names by corresponding id:\n",
    "def replace_tournament_name(df):\n",
    "    df['tournament'] = tournament_names[df['tournament']]\n",
    "\n",
    "    return df\n",
    "\n",
    "matches = matches.apply(replace_tournament_name, axis = 1)"
   ],
   "metadata": {
    "collapsed": false
   }
  },
  {
   "cell_type": "code",
   "execution_count": 17,
   "outputs": [],
   "source": [
    "# replace date with epoch\n",
    "matches['date'] = pd.to_datetime(matches['date'])\n",
    "matches['date'] = matches['date'].astype(np.int64) // 10 ** 9\n"
   ],
   "metadata": {
    "collapsed": false
   }
  },
  {
   "cell_type": "markdown",
   "source": [
    "Prepare data for training and testing"
   ],
   "metadata": {
    "collapsed": false
   }
  },
  {
   "cell_type": "code",
   "execution_count": 18,
   "outputs": [
    {
     "name": "stdout",
     "output_type": "stream",
     "text": [
      "Index(['date', 'home_team', 'away_team', 'home_team_fifa_rank',\n",
      "       'away_team_fifa_rank', 'tournament', 'neutral_location',\n",
      "       'home_team_goalkeeper_score', 'away_team_goalkeeper_score',\n",
      "       'home_team_mean_defense_score', 'home_team_mean_offense_score',\n",
      "       'home_team_mean_midfield_score', 'away_team_mean_defense_score',\n",
      "       'away_team_mean_offense_score', 'away_team_mean_midfield_score'],\n",
      "      dtype='object')\n",
      "Draws:  2312\n",
      "Wins:  3147\n",
      "Loses: 3147\n"
     ]
    },
    {
     "data": {
      "text/plain": "              date  home_team  away_team  home_team_fifa_rank  \\\n0     1.393978e+09       68.0       26.0                 51.0   \n1     1.277424e+09       43.0       42.0                 18.0   \n2     1.350000e+09       67.0      172.0                 10.0   \n3     1.289952e+09       34.0       49.0                 52.0   \n4     1.464739e+09       15.0       26.0                 49.0   \n...            ...        ...        ...                  ...   \n6449  1.283818e+09       23.0       53.0                 51.0   \n6450  1.283818e+09      204.0       31.0                 73.0   \n6451  1.234310e+09       15.0       55.0                 56.0   \n6452  1.412813e+09      105.0       17.0                 53.0   \n6453  1.338336e+09       34.0       17.0                 45.0   \n\n      away_team_fifa_rank  tournament  neutral_location  \\\n0                    48.0         0.0               0.0   \n1                     2.0        10.0               1.0   \n2                    29.0         1.0               0.0   \n3                    14.0         0.0               1.0   \n4                    35.0         0.0               0.0   \n...                   ...         ...               ...   \n6449                  2.0        11.0               0.0   \n6450                 43.0        11.0               0.0   \n6451                  2.0         0.0               0.0   \n6452                 10.0        11.0               0.0   \n6453                 18.0         0.0               0.0   \n\n      home_team_goalkeeper_score  away_team_goalkeeper_score  \\\n0                           72.0                        57.0   \n1                           75.0                        90.0   \n2                           73.0                        80.0   \n3                           75.0                        85.0   \n4                           73.0                        65.0   \n...                          ...                         ...   \n6449                        79.0                        83.0   \n6450                        64.0                        77.0   \n6451                        73.0                        85.0   \n6452                        83.0                        80.0   \n6453                        74.0                        78.0   \n\n      home_team_mean_defense_score  home_team_mean_offense_score  \\\n0                        74.199997                     69.699997   \n1                        74.199997                     77.300003   \n2                        77.199997                     75.000000   \n3                        76.000000                     74.000000   \n4                        73.199997                     74.300003   \n...                            ...                           ...   \n6449                     73.800003                     71.300003   \n6450                     69.500000                     79.300003   \n6451                     77.500000                     78.000000   \n6452                     71.500000                     75.000000   \n6453                     75.000000                     75.300003   \n\n      home_team_mean_midfield_score  away_team_mean_defense_score  \\\n0                         79.500000                     67.199997   \n1                         78.500000                     85.000000   \n2                         74.199997                     72.000000   \n3                         72.500000                     81.199997   \n4                         74.800003                     70.000000   \n...                             ...                           ...   \n6449                      72.500000                     77.000000   \n6450                      68.800003                     71.199997   \n6451                      76.199997                     83.199997   \n6452                      72.500000                     76.500000   \n6453                      74.000000                     77.000000   \n\n      away_team_mean_offense_score  away_team_mean_midfield_score  \n0                        73.300003                      71.800003  \n1                        85.300003                      87.000000  \n2                        75.300003                      76.500000  \n3                        83.300003                      81.000000  \n4                        73.000000                      74.199997  \n...                            ...                            ...  \n6449                     83.699997                      83.500000  \n6450                     75.300003                      75.000000  \n6451                     83.300003                      82.500000  \n6452                     74.699997                      79.199997  \n6453                     76.699997                      78.800003  \n\n[6454 rows x 15 columns]",
      "text/html": "<div>\n<style scoped>\n    .dataframe tbody tr th:only-of-type {\n        vertical-align: middle;\n    }\n\n    .dataframe tbody tr th {\n        vertical-align: top;\n    }\n\n    .dataframe thead th {\n        text-align: right;\n    }\n</style>\n<table border=\"1\" class=\"dataframe\">\n  <thead>\n    <tr style=\"text-align: right;\">\n      <th></th>\n      <th>date</th>\n      <th>home_team</th>\n      <th>away_team</th>\n      <th>home_team_fifa_rank</th>\n      <th>away_team_fifa_rank</th>\n      <th>tournament</th>\n      <th>neutral_location</th>\n      <th>home_team_goalkeeper_score</th>\n      <th>away_team_goalkeeper_score</th>\n      <th>home_team_mean_defense_score</th>\n      <th>home_team_mean_offense_score</th>\n      <th>home_team_mean_midfield_score</th>\n      <th>away_team_mean_defense_score</th>\n      <th>away_team_mean_offense_score</th>\n      <th>away_team_mean_midfield_score</th>\n    </tr>\n  </thead>\n  <tbody>\n    <tr>\n      <th>0</th>\n      <td>1.393978e+09</td>\n      <td>68.0</td>\n      <td>26.0</td>\n      <td>51.0</td>\n      <td>48.0</td>\n      <td>0.0</td>\n      <td>0.0</td>\n      <td>72.0</td>\n      <td>57.0</td>\n      <td>74.199997</td>\n      <td>69.699997</td>\n      <td>79.500000</td>\n      <td>67.199997</td>\n      <td>73.300003</td>\n      <td>71.800003</td>\n    </tr>\n    <tr>\n      <th>1</th>\n      <td>1.277424e+09</td>\n      <td>43.0</td>\n      <td>42.0</td>\n      <td>18.0</td>\n      <td>2.0</td>\n      <td>10.0</td>\n      <td>1.0</td>\n      <td>75.0</td>\n      <td>90.0</td>\n      <td>74.199997</td>\n      <td>77.300003</td>\n      <td>78.500000</td>\n      <td>85.000000</td>\n      <td>85.300003</td>\n      <td>87.000000</td>\n    </tr>\n    <tr>\n      <th>2</th>\n      <td>1.350000e+09</td>\n      <td>67.0</td>\n      <td>172.0</td>\n      <td>10.0</td>\n      <td>29.0</td>\n      <td>1.0</td>\n      <td>0.0</td>\n      <td>73.0</td>\n      <td>80.0</td>\n      <td>77.199997</td>\n      <td>75.000000</td>\n      <td>74.199997</td>\n      <td>72.000000</td>\n      <td>75.300003</td>\n      <td>76.500000</td>\n    </tr>\n    <tr>\n      <th>3</th>\n      <td>1.289952e+09</td>\n      <td>34.0</td>\n      <td>49.0</td>\n      <td>52.0</td>\n      <td>14.0</td>\n      <td>0.0</td>\n      <td>1.0</td>\n      <td>75.0</td>\n      <td>85.0</td>\n      <td>76.000000</td>\n      <td>74.000000</td>\n      <td>72.500000</td>\n      <td>81.199997</td>\n      <td>83.300003</td>\n      <td>81.000000</td>\n    </tr>\n    <tr>\n      <th>4</th>\n      <td>1.464739e+09</td>\n      <td>15.0</td>\n      <td>26.0</td>\n      <td>49.0</td>\n      <td>35.0</td>\n      <td>0.0</td>\n      <td>0.0</td>\n      <td>73.0</td>\n      <td>65.0</td>\n      <td>73.199997</td>\n      <td>74.300003</td>\n      <td>74.800003</td>\n      <td>70.000000</td>\n      <td>73.000000</td>\n      <td>74.199997</td>\n    </tr>\n    <tr>\n      <th>...</th>\n      <td>...</td>\n      <td>...</td>\n      <td>...</td>\n      <td>...</td>\n      <td>...</td>\n      <td>...</td>\n      <td>...</td>\n      <td>...</td>\n      <td>...</td>\n      <td>...</td>\n      <td>...</td>\n      <td>...</td>\n      <td>...</td>\n      <td>...</td>\n      <td>...</td>\n    </tr>\n    <tr>\n      <th>6449</th>\n      <td>1.283818e+09</td>\n      <td>23.0</td>\n      <td>53.0</td>\n      <td>51.0</td>\n      <td>2.0</td>\n      <td>11.0</td>\n      <td>0.0</td>\n      <td>79.0</td>\n      <td>83.0</td>\n      <td>73.800003</td>\n      <td>71.300003</td>\n      <td>72.500000</td>\n      <td>77.000000</td>\n      <td>83.699997</td>\n      <td>83.500000</td>\n    </tr>\n    <tr>\n      <th>6450</th>\n      <td>1.283818e+09</td>\n      <td>204.0</td>\n      <td>31.0</td>\n      <td>73.0</td>\n      <td>43.0</td>\n      <td>11.0</td>\n      <td>0.0</td>\n      <td>64.0</td>\n      <td>77.0</td>\n      <td>69.500000</td>\n      <td>79.300003</td>\n      <td>68.800003</td>\n      <td>71.199997</td>\n      <td>75.300003</td>\n      <td>75.000000</td>\n    </tr>\n    <tr>\n      <th>6451</th>\n      <td>1.234310e+09</td>\n      <td>15.0</td>\n      <td>55.0</td>\n      <td>56.0</td>\n      <td>2.0</td>\n      <td>0.0</td>\n      <td>0.0</td>\n      <td>73.0</td>\n      <td>85.0</td>\n      <td>77.500000</td>\n      <td>78.000000</td>\n      <td>76.199997</td>\n      <td>83.199997</td>\n      <td>83.300003</td>\n      <td>82.500000</td>\n    </tr>\n    <tr>\n      <th>6452</th>\n      <td>1.412813e+09</td>\n      <td>105.0</td>\n      <td>17.0</td>\n      <td>53.0</td>\n      <td>10.0</td>\n      <td>11.0</td>\n      <td>0.0</td>\n      <td>83.0</td>\n      <td>80.0</td>\n      <td>71.500000</td>\n      <td>75.000000</td>\n      <td>72.500000</td>\n      <td>76.500000</td>\n      <td>74.699997</td>\n      <td>79.199997</td>\n    </tr>\n    <tr>\n      <th>6453</th>\n      <td>1.338336e+09</td>\n      <td>34.0</td>\n      <td>17.0</td>\n      <td>45.0</td>\n      <td>18.0</td>\n      <td>0.0</td>\n      <td>0.0</td>\n      <td>74.0</td>\n      <td>78.0</td>\n      <td>75.000000</td>\n      <td>75.300003</td>\n      <td>74.000000</td>\n      <td>77.000000</td>\n      <td>76.699997</td>\n      <td>78.800003</td>\n    </tr>\n  </tbody>\n</table>\n<p>6454 rows × 15 columns</p>\n</div>"
     },
     "execution_count": 18,
     "metadata": {},
     "output_type": "execute_result"
    }
   ],
   "source": [
    "X = matches.iloc[:, :-1].values\n",
    "y = matches.iloc[:, -1].values\n",
    "\n",
    "_X = X.copy()\n",
    "_X[:, 1] = X[:, 2]\n",
    "_X[:, 2] = X[:, 1]\n",
    "_X[:, 3] = X[:, 4]\n",
    "_X[:, 4] = X[:, 3]\n",
    "_X[:, 7] = X[:, 8]\n",
    "_X[:, 8] = X[:, 7]\n",
    "_X[:, 9] = X[:, 12]\n",
    "_X[:, 12] = X[:, 9]\n",
    "_X[:, 10] = X[:, 13]\n",
    "_X[:, 13] = X[:, 10]\n",
    "_X[:, 11] = X[:, 14]\n",
    "_X[:, 14] = X[:, 11]\n",
    "\n",
    "_y = y.copy()\n",
    "\n",
    "for i in range(len(_y)):\n",
    "  if _y[i]==1:\n",
    "    _y[i] = 2\n",
    "  elif _y[i] == 2:\n",
    "    _y[i] = 1\n",
    "\n",
    "X = np.concatenate((X,_X), axis= 0)\n",
    "\n",
    "y = np.concatenate((y,_y))\n",
    "\n",
    "\n",
    "print(matches.iloc[:, :-1].columns)\n",
    "\n",
    "\n",
    "X = np.array(X, dtype = 'f')\n",
    "y = np.array(y, dtype = 'f')\n",
    "\n",
    "\n",
    "from sklearn.preprocessing import LabelEncoder\n",
    "LabelEncoder_res=LabelEncoder()\n",
    "y=LabelEncoder_res.fit_transform(y)\n",
    "\n",
    "X, y = shuffle(X,y)\n",
    "\n",
    "X_train, X_test, y_train, y_test = train_test_split(X, y, test_size = 0.25)\n",
    "\n",
    "# Scaling of Data:\n",
    "# from sklearn.preprocessing import StandardScaler\n",
    "# sc = StandardScaler()\n",
    "# X_train = sc.fit_transform(X_train)\n",
    "# X_test = sc.fit_transform(X_test)\n",
    "\n",
    "print('Draws: ', len(y[y==0]))\n",
    "print('Wins: ', len(y[y==1]))\n",
    "print('Loses:', len(y[y==2]))\n",
    "\n",
    "# make a table with 5 rows and a column for each category\n",
    "table = pd.DataFrame(index=range(len(X_train)), columns=matches.iloc[:, :-1].columns, data=X_train)\n",
    "table\n"
   ],
   "metadata": {
    "collapsed": false
   }
  },
  {
   "cell_type": "markdown",
   "source": [
    "Import keras libraries"
   ],
   "metadata": {
    "collapsed": false
   }
  },
  {
   "cell_type": "markdown",
   "source": [
    "## Method 1: Logistic Regression"
   ],
   "metadata": {
    "collapsed": false
   }
  },
  {
   "cell_type": "code",
   "execution_count": 19,
   "outputs": [
    {
     "name": "stdout",
     "output_type": "stream",
     "text": [
      "0.36550976138828634\n",
      "0.36617100371747213\n",
      "              precision    recall  f1-score   support\n",
      "\n",
      "           0       0.00      0.00      0.00       563\n",
      "           1       0.00      0.00      0.00       801\n",
      "           2       0.37      1.00      0.54       788\n",
      "\n",
      "    accuracy                           0.37      2152\n",
      "   macro avg       0.12      0.33      0.18      2152\n",
      "weighted avg       0.13      0.37      0.20      2152\n",
      "\n",
      "[[  0   0 563]\n",
      " [  0   0 801]\n",
      " [  0   0 788]]\n"
     ]
    },
    {
     "name": "stderr",
     "output_type": "stream",
     "text": [
      "C:\\Users\\tomib\\Projects\\Faculty\\ml\\fifa-2022-predictor\\venv\\lib\\site-packages\\sklearn\\metrics\\_classification.py:1334: UndefinedMetricWarning: Precision and F-score are ill-defined and being set to 0.0 in labels with no predicted samples. Use `zero_division` parameter to control this behavior.\n",
      "  _warn_prf(average, modifier, msg_start, len(result))\n",
      "C:\\Users\\tomib\\Projects\\Faculty\\ml\\fifa-2022-predictor\\venv\\lib\\site-packages\\sklearn\\metrics\\_classification.py:1334: UndefinedMetricWarning: Precision and F-score are ill-defined and being set to 0.0 in labels with no predicted samples. Use `zero_division` parameter to control this behavior.\n",
      "  _warn_prf(average, modifier, msg_start, len(result))\n",
      "C:\\Users\\tomib\\Projects\\Faculty\\ml\\fifa-2022-predictor\\venv\\lib\\site-packages\\sklearn\\metrics\\_classification.py:1334: UndefinedMetricWarning: Precision and F-score are ill-defined and being set to 0.0 in labels with no predicted samples. Use `zero_division` parameter to control this behavior.\n",
      "  _warn_prf(average, modifier, msg_start, len(result))\n"
     ]
    }
   ],
   "source": [
    "np.random.seed(69)\n",
    "\n",
    "from sklearn.linear_model import LogisticRegression\n",
    "from sklearn.metrics import classification_report, confusion_matrix\n",
    "LR = LogisticRegression(random_state = 69, max_iter=1000)\n",
    "LR.fit(X_train, y_train)\n",
    "score_train_acc = LR.score(X_train, y_train)\n",
    "score_test_acc = LR.score(X_test, y_test)\n",
    "print(score_train_acc) # 53\n",
    "print(score_test_acc) # 54\n",
    "y_pred_LR = LR.predict(X_test)\n",
    "print(classification_report(y_test, y_pred_LR))\n",
    "print(confusion_matrix(y_test, y_pred_LR, labels=range(3)))"
   ],
   "metadata": {
    "collapsed": false
   }
  },
  {
   "cell_type": "markdown",
   "source": [
    "## Method 2: SGDC Classifier"
   ],
   "metadata": {
    "collapsed": false
   }
  },
  {
   "cell_type": "code",
   "execution_count": 20,
   "outputs": [
    {
     "name": "stdout",
     "output_type": "stream",
     "text": [
      "0.3634955066625349\n",
      "0.3722118959107807\n",
      "              precision    recall  f1-score   support\n",
      "\n",
      "           0       0.00      0.00      0.00       563\n",
      "           1       0.37      1.00      0.54       801\n",
      "           2       0.00      0.00      0.00       788\n",
      "\n",
      "    accuracy                           0.37      2152\n",
      "   macro avg       0.12      0.33      0.18      2152\n",
      "weighted avg       0.14      0.37      0.20      2152\n",
      "\n",
      "[[  0 563   0]\n",
      " [  0 801   0]\n",
      " [  0 788   0]]\n"
     ]
    },
    {
     "name": "stderr",
     "output_type": "stream",
     "text": [
      "C:\\Users\\tomib\\Projects\\Faculty\\ml\\fifa-2022-predictor\\venv\\lib\\site-packages\\sklearn\\metrics\\_classification.py:1334: UndefinedMetricWarning: Precision and F-score are ill-defined and being set to 0.0 in labels with no predicted samples. Use `zero_division` parameter to control this behavior.\n",
      "  _warn_prf(average, modifier, msg_start, len(result))\n",
      "C:\\Users\\tomib\\Projects\\Faculty\\ml\\fifa-2022-predictor\\venv\\lib\\site-packages\\sklearn\\metrics\\_classification.py:1334: UndefinedMetricWarning: Precision and F-score are ill-defined and being set to 0.0 in labels with no predicted samples. Use `zero_division` parameter to control this behavior.\n",
      "  _warn_prf(average, modifier, msg_start, len(result))\n",
      "C:\\Users\\tomib\\Projects\\Faculty\\ml\\fifa-2022-predictor\\venv\\lib\\site-packages\\sklearn\\metrics\\_classification.py:1334: UndefinedMetricWarning: Precision and F-score are ill-defined and being set to 0.0 in labels with no predicted samples. Use `zero_division` parameter to control this behavior.\n",
      "  _warn_prf(average, modifier, msg_start, len(result))\n"
     ]
    }
   ],
   "source": [
    "from sklearn.linear_model import SGDClassifier\n",
    "SGD = SGDClassifier(loss = 'log_loss', penalty = 'elasticnet')\n",
    "SGD.fit(X_train, y_train)\n",
    "score_train_acc = SGD.score(X_train, y_train)\n",
    "score_test_acc = SGD.score(X_test, y_test)\n",
    "print(score_train_acc) # 50\n",
    "print(score_test_acc)  # 50\n",
    "y_pred_SGD = SGD.predict(X_test)\n",
    "print(classification_report(y_test, y_pred_SGD))\n",
    "print(confusion_matrix(y_test, y_pred_SGD, labels=range(3)))"
   ],
   "metadata": {
    "collapsed": false
   }
  },
  {
   "cell_type": "markdown",
   "source": [
    "## Method 3: SVM"
   ],
   "metadata": {
    "collapsed": false
   }
  },
  {
   "cell_type": "code",
   "execution_count": 21,
   "outputs": [
    {
     "name": "stdout",
     "output_type": "stream",
     "text": [
      "0.36550976138828634\n",
      "0.36617100371747213\n",
      "              precision    recall  f1-score   support\n",
      "\n",
      "           0       0.00      0.00      0.00       563\n",
      "           1       0.00      0.00      0.00       801\n",
      "           2       0.37      1.00      0.54       788\n",
      "\n",
      "    accuracy                           0.37      2152\n",
      "   macro avg       0.12      0.33      0.18      2152\n",
      "weighted avg       0.13      0.37      0.20      2152\n",
      "\n",
      "[[  0   0 563]\n",
      " [  0   0 801]\n",
      " [  0   0 788]]\n"
     ]
    },
    {
     "name": "stderr",
     "output_type": "stream",
     "text": [
      "C:\\Users\\tomib\\Projects\\Faculty\\ml\\fifa-2022-predictor\\venv\\lib\\site-packages\\sklearn\\metrics\\_classification.py:1334: UndefinedMetricWarning: Precision and F-score are ill-defined and being set to 0.0 in labels with no predicted samples. Use `zero_division` parameter to control this behavior.\n",
      "  _warn_prf(average, modifier, msg_start, len(result))\n",
      "C:\\Users\\tomib\\Projects\\Faculty\\ml\\fifa-2022-predictor\\venv\\lib\\site-packages\\sklearn\\metrics\\_classification.py:1334: UndefinedMetricWarning: Precision and F-score are ill-defined and being set to 0.0 in labels with no predicted samples. Use `zero_division` parameter to control this behavior.\n",
      "  _warn_prf(average, modifier, msg_start, len(result))\n",
      "C:\\Users\\tomib\\Projects\\Faculty\\ml\\fifa-2022-predictor\\venv\\lib\\site-packages\\sklearn\\metrics\\_classification.py:1334: UndefinedMetricWarning: Precision and F-score are ill-defined and being set to 0.0 in labels with no predicted samples. Use `zero_division` parameter to control this behavior.\n",
      "  _warn_prf(average, modifier, msg_start, len(result))\n"
     ]
    }
   ],
   "source": [
    "from sklearn.svm import SVC\n",
    "svm_model = SVC()\n",
    "parameters = {'C' : [ 0.1, 0.001, 1]}\n",
    "svm_model = GridSearchCV(svm_model, param_grid= parameters ,cv=5)\n",
    "svm_model.fit(X_train, y_train)\n",
    "score_train_acc = svm_model.score(X_train, y_train)\n",
    "score_test_acc = svm_model.score(X_test, y_test)\n",
    "print(score_train_acc) # 57\n",
    "print(score_test_acc)  # 53\n",
    "y_pred_SVM = svm_model.predict(X_test)\n",
    "print(classification_report(y_test, y_pred_SVM))\n",
    "print(confusion_matrix(y_test, y_pred_SVM, labels=range(3)))"
   ],
   "metadata": {
    "collapsed": false
   }
  },
  {
   "cell_type": "markdown",
   "source": [
    "## Method 4: Decision Tree"
   ],
   "metadata": {
    "collapsed": false
   }
  },
  {
   "cell_type": "code",
   "execution_count": 22,
   "outputs": [
    {
     "name": "stdout",
     "output_type": "stream",
     "text": [
      "1.0\n",
      "0.40055762081784385\n",
      "              precision    recall  f1-score   support\n",
      "\n",
      "           0       0.26      0.29      0.28       563\n",
      "           1       0.44      0.42      0.43       801\n",
      "           2       0.47      0.46      0.46       788\n",
      "\n",
      "    accuracy                           0.40      2152\n",
      "   macro avg       0.39      0.39      0.39      2152\n",
      "weighted avg       0.41      0.40      0.40      2152\n",
      "\n",
      "[[164 212 187]\n",
      " [238 334 229]\n",
      " [219 205 364]]\n"
     ]
    }
   ],
   "source": [
    "from sklearn.tree import DecisionTreeClassifier\n",
    "dc = DecisionTreeClassifier()\n",
    "dc.fit(X_train, y_train)\n",
    "score_train_acc = dc.score(X_train, y_train)\n",
    "score_test_acc = dc.score(X_test, y_test)\n",
    "print(score_train_acc) # 100\n",
    "print(score_test_acc)  # 42\n",
    "y_pred_dc = dc.predict(X_test)\n",
    "print(classification_report(y_test, y_pred_dc))\n",
    "print(confusion_matrix(y_test, y_pred_dc, labels=range(3)))"
   ],
   "metadata": {
    "collapsed": false
   }
  },
  {
   "cell_type": "markdown",
   "source": [
    "## Method 5: KNN"
   ],
   "metadata": {
    "collapsed": false
   }
  },
  {
   "cell_type": "code",
   "execution_count": 23,
   "outputs": [
    {
     "name": "stdout",
     "output_type": "stream",
     "text": [
      "0.5638363805392005\n",
      "0.33178438661710036\n",
      "              precision    recall  f1-score   support\n",
      "\n",
      "           0       0.35      0.53      0.42       563\n",
      "           1       0.33      0.35      0.34       801\n",
      "           2       0.30      0.18      0.22       788\n",
      "\n",
      "    accuracy                           0.33      2152\n",
      "   macro avg       0.33      0.35      0.33      2152\n",
      "weighted avg       0.32      0.33      0.32      2152\n",
      "\n",
      "[[296 181  86]\n",
      " [279 278 244]\n",
      " [276 372 140]]\n"
     ]
    }
   ],
   "source": [
    "from sklearn.neighbors import KNeighborsClassifier\n",
    "knn = KNeighborsClassifier(n_neighbors=5, weights = 'uniform', algorithm='auto')\n",
    "knn.fit(X_train, y_train)\n",
    "score_train_acc = knn.score(X_train, y_train)\n",
    "score_test_acc = knn.score(X_test, y_test)\n",
    "print(score_train_acc) # 63\n",
    "print(score_test_acc)  # 44\n",
    "y_pred_knn = knn.predict(X_test)\n",
    "print(classification_report(y_test, y_pred_knn))\n",
    "print(confusion_matrix(y_test, y_pred_knn, labels=range(3)))"
   ],
   "metadata": {
    "collapsed": false
   }
  },
  {
   "cell_type": "markdown",
   "source": [
    "## Method 6: Naive Bayes"
   ],
   "metadata": {
    "collapsed": false
   }
  },
  {
   "cell_type": "code",
   "execution_count": 24,
   "outputs": [
    {
     "name": "stdout",
     "output_type": "stream",
     "text": [
      "0.3684536721413077\n",
      "0.35734200743494426\n",
      "              precision    recall  f1-score   support\n",
      "\n",
      "           0       0.00      0.00      0.00       563\n",
      "           1       0.35      0.34      0.35       801\n",
      "           2       0.36      0.63      0.46       788\n",
      "\n",
      "    accuracy                           0.36      2152\n",
      "   macro avg       0.24      0.32      0.27      2152\n",
      "weighted avg       0.26      0.36      0.30      2152\n",
      "\n",
      "[[  0 212 351]\n",
      " [  0 274 527]\n",
      " [  0 293 495]]\n"
     ]
    },
    {
     "name": "stderr",
     "output_type": "stream",
     "text": [
      "C:\\Users\\tomib\\Projects\\Faculty\\ml\\fifa-2022-predictor\\venv\\lib\\site-packages\\sklearn\\metrics\\_classification.py:1334: UndefinedMetricWarning: Precision and F-score are ill-defined and being set to 0.0 in labels with no predicted samples. Use `zero_division` parameter to control this behavior.\n",
      "  _warn_prf(average, modifier, msg_start, len(result))\n",
      "C:\\Users\\tomib\\Projects\\Faculty\\ml\\fifa-2022-predictor\\venv\\lib\\site-packages\\sklearn\\metrics\\_classification.py:1334: UndefinedMetricWarning: Precision and F-score are ill-defined and being set to 0.0 in labels with no predicted samples. Use `zero_division` parameter to control this behavior.\n",
      "  _warn_prf(average, modifier, msg_start, len(result))\n",
      "C:\\Users\\tomib\\Projects\\Faculty\\ml\\fifa-2022-predictor\\venv\\lib\\site-packages\\sklearn\\metrics\\_classification.py:1334: UndefinedMetricWarning: Precision and F-score are ill-defined and being set to 0.0 in labels with no predicted samples. Use `zero_division` parameter to control this behavior.\n",
      "  _warn_prf(average, modifier, msg_start, len(result))\n"
     ]
    }
   ],
   "source": [
    "from sklearn.naive_bayes import GaussianNB\n",
    "nb = GaussianNB()\n",
    "nb.fit(X_train, y_train)\n",
    "score_train_acc = nb.score(X_train, y_train)\n",
    "score_test_acc = nb.score(X_test, y_test)\n",
    "print(score_train_acc) # 52\n",
    "print(score_test_acc)  # 51\n",
    "y_pred_nb = nb.predict(X_test)\n",
    "print(classification_report(y_test, y_pred_nb))\n",
    "print(confusion_matrix(y_test, y_pred_nb, labels=range(3)))"
   ],
   "metadata": {
    "collapsed": false
   }
  },
  {
   "cell_type": "markdown",
   "source": [
    "## Method 7: Random Forest"
   ],
   "metadata": {
    "collapsed": false
   }
  },
  {
   "cell_type": "code",
   "execution_count": 25,
   "outputs": [
    {
     "name": "stdout",
     "output_type": "stream",
     "text": [
      "1.0\n",
      "0.49117100371747213\n",
      "              precision    recall  f1-score   support\n",
      "\n",
      "           0       0.31      0.17      0.22       563\n",
      "           1       0.53      0.59      0.56       801\n",
      "           2       0.52      0.62      0.56       788\n",
      "\n",
      "    accuracy                           0.49      2152\n",
      "   macro avg       0.45      0.46      0.45      2152\n",
      "weighted avg       0.47      0.49      0.47      2152\n",
      "\n",
      "[[ 96 227 240]\n",
      " [116 476 209]\n",
      " [101 202 485]]\n"
     ]
    }
   ],
   "source": [
    "from sklearn.ensemble import RandomForestClassifier\n",
    "rc = RandomForestClassifier(n_estimators=100)\n",
    "rc.fit(X_train, y_train)\n",
    "score_train_acc = rc.score(X_train, y_train)\n",
    "score_test_acc = rc.score(X_test, y_test)\n",
    "print(score_train_acc) # 100\n",
    "print(score_test_acc)  # 52\n",
    "y_pred_rc = rc.predict(X_test)\n",
    "print(classification_report(y_test, y_pred_rc))\n",
    "print(confusion_matrix(y_test, y_pred_rc, labels=range(3)))"
   ],
   "metadata": {
    "collapsed": false
   }
  },
  {
   "cell_type": "markdown",
   "source": [
    "## Method 8: Bagging Classifier"
   ],
   "metadata": {
    "collapsed": false
   }
  },
  {
   "cell_type": "code",
   "execution_count": 26,
   "outputs": [
    {
     "name": "stdout",
     "output_type": "stream",
     "text": [
      "1.0\n",
      "0.4758364312267658\n",
      "              precision    recall  f1-score   support\n",
      "\n",
      "           0       0.30      0.19      0.23       563\n",
      "           1       0.51      0.56      0.53       801\n",
      "           2       0.51      0.60      0.55       788\n",
      "\n",
      "    accuracy                           0.48      2152\n",
      "   macro avg       0.44      0.45      0.44      2152\n",
      "weighted avg       0.45      0.48      0.46      2152\n",
      "\n",
      "[[105 227 231]\n",
      " [134 449 218]\n",
      " [115 203 470]]\n"
     ]
    }
   ],
   "source": [
    "from sklearn.ensemble import BaggingClassifier\n",
    "bc = BaggingClassifier(n_estimators=100)\n",
    "bc.fit(X_train, y_train)\n",
    "score_train_acc = bc.score(X_train, y_train)\n",
    "score_test_acc = bc.score(X_test, y_test)\n",
    "print(score_train_acc) # 100\n",
    "print(score_test_acc)  # 50\n",
    "y_pred_bc = bc.predict(X_test)\n",
    "print(classification_report(y_test, y_pred_bc))\n",
    "print(confusion_matrix(y_test, y_pred_bc, labels=range(3)))"
   ],
   "metadata": {
    "collapsed": false
   }
  },
  {
   "cell_type": "markdown",
   "source": [
    "## Method 9: Gradient Boosting"
   ],
   "metadata": {
    "collapsed": false
   }
  },
  {
   "cell_type": "code",
   "execution_count": 27,
   "outputs": [
    {
     "name": "stdout",
     "output_type": "stream",
     "text": [
      "0.575147195537651\n",
      "0.5195167286245354\n",
      "              precision    recall  f1-score   support\n",
      "\n",
      "           0       0.35      0.08      0.13       563\n",
      "           1       0.53      0.66      0.59       801\n",
      "           2       0.53      0.69      0.60       788\n",
      "\n",
      "    accuracy                           0.52      2152\n",
      "   macro avg       0.47      0.48      0.44      2152\n",
      "weighted avg       0.48      0.52      0.47      2152\n",
      "\n",
      "[[ 46 266 251]\n",
      " [ 45 532 224]\n",
      " [ 41 207 540]]\n"
     ]
    }
   ],
   "source": [
    "from sklearn.ensemble import GradientBoostingClassifier\n",
    "gbc = GradientBoostingClassifier(n_estimators=100, learning_rate=0.1)\n",
    "gbc.fit(X_train, y_train)\n",
    "score_train_acc = gbc.score(X_train, y_train)\n",
    "score_test_acc = gbc.score(X_test, y_test)\n",
    "print(score_train_acc) # 63\n",
    "print(score_test_acc)  # 53\n",
    "y_pred_gbc = gbc.predict(X_test)\n",
    "print(classification_report(y_test, y_pred_gbc))\n",
    "print(confusion_matrix(y_test, y_pred_gbc, labels=range(3)))"
   ],
   "metadata": {
    "collapsed": false
   }
  },
  {
   "cell_type": "markdown",
   "source": [
    "## Method 10: XGBoost"
   ],
   "metadata": {
    "collapsed": false
   }
  },
  {
   "cell_type": "code",
   "execution_count": 28,
   "outputs": [
    {
     "name": "stdout",
     "output_type": "stream",
     "text": [
      "0.5226216299969011\n",
      "0.5181226765799256\n",
      "              precision    recall  f1-score   support\n",
      "\n",
      "           0       0.50      0.00      0.01       563\n",
      "           1       0.51      0.70      0.59       801\n",
      "           2       0.52      0.70      0.60       788\n",
      "\n",
      "    accuracy                           0.52      2152\n",
      "   macro avg       0.51      0.47      0.40      2152\n",
      "weighted avg       0.51      0.52      0.44      2152\n",
      "\n",
      "[[  2 297 264]\n",
      " [  1 558 242]\n",
      " [  1 232 555]]\n"
     ]
    }
   ],
   "source": [
    "import xgboost as xgb\n",
    "XGB = xgb.XGBClassifier(base_score=0.5, booster='gbtree', colsample_bylevel=1,\n",
    "       colsample_bytree=0.8, gamma=0.4, learning_rate=0.01,\n",
    "       max_delta_step=0, max_depth=3, min_child_weight=1, missing=1,\n",
    "       n_estimators=40, n_jobs=1, nthread=None, objective='multi:softprob',\n",
    "       random_state=0, reg_alpha=1e-05, reg_lambda=1,\n",
    "       seed=2, subsample=0.8)\n",
    "XGB.fit(X_train, y_train)\n",
    "score_train_acc = XGB.score(X_train, y_train)\n",
    "score_test_acc = XGB.score(X_test, y_test)\n",
    "print(score_train_acc) # 55\n",
    "print(score_test_acc)  # 51\n",
    "y_pred_XGB = XGB.predict(X_test)\n",
    "print(classification_report(y_test, y_pred_XGB))\n",
    "print(confusion_matrix(y_test, y_pred_XGB, labels=range(3)))"
   ],
   "metadata": {
    "collapsed": false
   }
  },
  {
   "cell_type": "code",
   "execution_count": 141,
   "outputs": [
    {
     "name": "stdout",
     "output_type": "stream",
     "text": [
      "[0.31413597 0.28436655 0.40149742]\n"
     ]
    },
    {
     "data": {
      "text/plain": "'Argentina'"
     },
     "execution_count": 141,
     "metadata": {},
     "output_type": "execute_result"
    }
   ],
   "source": [
    "import time\n",
    "\n",
    "def prediction(team1, team2):\n",
    "  id_home = team_name[team1['name']]\n",
    "  id_away = team_name[team2['name']]\n",
    "\n",
    "  date = time.time()\n",
    "  tournament = tournament_names.get('FIFA World Cup')\n",
    "  neutral_location =  1 if team1['name'] != 'Qatar' else 0\n",
    "\n",
    "  t = np.array([date, id_home, id_away, team1['rank'], team2['rank'],\n",
    "               tournament, neutral_location,\n",
    "               team1['goalkeeper'], team2['goalkeeper'],\n",
    "               team1['defence'], team1['offense'],\n",
    "               team1['midfield'], team2['defence'],\n",
    "               team2['offense'], team2['midfield']]).astype('float64')\n",
    "  t = np.reshape(t, (1,-1))\n",
    "  y_rc = XGB.predict(t)\n",
    "  odds = XGB.predict_proba(t)[0]\n",
    "  print(odds)\n",
    "  if abs(odds[1] - odds[2]) < 0.01:\n",
    "      return 'Draw'\n",
    "  result = team1['name']\n",
    "  if y_rc == 0:\n",
    "    result = 'Draw'\n",
    "  elif y_rc == 2:\n",
    "    result = team2['name']\n",
    "  return result\n",
    "\n",
    "prediction({\n",
    "    'name': \"Qatar\",\n",
    "    'rank': 50,\n",
    "    'goalkeeper': 68,\n",
    "    'defence': 68,\n",
    "    'midfield': 70,\n",
    "    'offense': 71,\n",
    "}, {\n",
    "    'name': \"Argentina\",\n",
    "    'rank': 3,\n",
    "    'goalkeeper': 84,\n",
    "    'defence': 81,\n",
    "    'midfield': 82,\n",
    "    'offense': 86,\n",
    "})"
   ],
   "metadata": {
    "collapsed": false
   }
  },
  {
   "cell_type": "markdown",
   "source": [
    "## Predict World Champion\n",
    "### Groups"
   ],
   "metadata": {
    "collapsed": false
   }
  },
  {
   "cell_type": "code",
   "execution_count": 142,
   "outputs": [],
   "source": [
    "# Group A\n",
    "qatar = {\n",
    "    'name': \"Qatar\",\n",
    "    'rank': 50,\n",
    "    'goalkeeper': 68,\n",
    "    'defence': 68,\n",
    "    'midfield': 70,\n",
    "    'offense': 71,\n",
    "}\n",
    "ecuador = {\n",
    "    'name': \"Ecuador\",\n",
    "    'rank': 44,\n",
    "    'goalkeeper': 74,\n",
    "    'defence': 75,\n",
    "    'midfield': 72,\n",
    "    'offense': 74,\n",
    "}\n",
    "senegal = {\n",
    "    'name': \"Senegal\",\n",
    "    'rank': 18,\n",
    "    'goalkeeper': 69,\n",
    "    'defence': 76,\n",
    "    'midfield': 77,\n",
    "    'offense': 77,\n",
    "}\n",
    "netherlands = {\n",
    "    'name': \"Netherlands\",\n",
    "    'rank': 8,\n",
    "    'goalkeeper': 79,\n",
    "    'defence': 83,\n",
    "    'midfield': 81,\n",
    "    'offense': 82,\n",
    "}\n",
    "\n",
    "# Group B\n",
    "england = {\n",
    "    'name': \"England\",\n",
    "    'rank': 5,\n",
    "    'goalkeeper': 82,\n",
    "    'defence': 83,\n",
    "    'midfield': 83,\n",
    "    'offense': 85,\n",
    "}\n",
    "iran = {\n",
    "    'name': \"IR Iran\",\n",
    "    'rank': 20,\n",
    "    'goalkeeper': 75,\n",
    "    'defence': 71,\n",
    "    'midfield': 71,\n",
    "    'offense': 76,\n",
    "}\n",
    "usa = {\n",
    "    'name': \"USA\",\n",
    "    'rank': 16,\n",
    "    'goalkeeper': 77,\n",
    "    'defence': 74,\n",
    "    'midfield': 76,\n",
    "    'offense': 74,\n",
    "}\n",
    "wales = {\n",
    "    'name': \"Wales\",\n",
    "    'rank': 19,\n",
    "    'goalkeeper': 75,\n",
    "    'defence': 73,\n",
    "    'midfield': 74,\n",
    "    'offense': 74,\n",
    "}\n",
    "\n",
    "# Group C\n",
    "argentina = {\n",
    "    'name': \"Argentina\",\n",
    "    'rank': 3,\n",
    "    'goalkeeper': 84,\n",
    "    'defence': 81,\n",
    "    'midfield': 82,\n",
    "    'offense': 86,\n",
    "}\n",
    "saudi_arabia = {\n",
    "    'name': \"Saudi Arabia\",\n",
    "    'rank': 51,\n",
    "    'goalkeeper': 70,\n",
    "    'defence': 73,\n",
    "    'midfield': 72,\n",
    "    'offense': 73,\n",
    "}\n",
    "mexico = {\n",
    "    'name': \"Mexico\",\n",
    "    'rank': 13,\n",
    "    'goalkeeper': 80,\n",
    "    'defence': 76,\n",
    "    'midfield': 77,\n",
    "    'offense': 79,\n",
    "}\n",
    "poland = {\n",
    "    'name': \"Poland\",\n",
    "    'rank': 26,\n",
    "    'goalkeeper': 86,\n",
    "    'defence': 75,\n",
    "    'midfield': 76,\n",
    "    'offense': 81,\n",
    "}\n",
    "\n",
    "# Group D\n",
    "france = {\n",
    "    'name': \"France\",\n",
    "    'rank': 4,\n",
    "    'goalkeeper': 87,\n",
    "    'defence': 83,\n",
    "    'midfield':85 ,\n",
    "    'offense': 88,\n",
    "}\n",
    "australia = {\n",
    "    'name': \"Australia\",\n",
    "    'rank': 38,\n",
    "    'goalkeeper': 78,\n",
    "    'defence': 70,\n",
    "    'midfield': 72,\n",
    "    'offense': 72,\n",
    "}\n",
    "denmark = {\n",
    "    'name': \"Denmark\",\n",
    "    'rank': 10,\n",
    "    'goalkeeper': 83,\n",
    "    'defence': 78,\n",
    "    'midfield': 82,\n",
    "    'offense': 77,\n",
    "}\n",
    "tunisia = {\n",
    "    'name': \"Tunisia\",\n",
    "    'rank': 30,\n",
    "    'goalkeeper': 68,\n",
    "    'defence': 71,\n",
    "    'midfield': 71,\n",
    "    'offense': 75,\n",
    "}\n",
    "\n",
    "# Group E\n",
    "spain = {\n",
    "    'name': \"Spain\",\n",
    "    'rank': 7,\n",
    "    'goalkeeper': 83,\n",
    "    'defence': 83,\n",
    "    'midfield': 84,\n",
    "    'offense': 82,\n",
    "}\n",
    "costaRica = {\n",
    "    'name': \"Costa Rica\",\n",
    "    'rank': 31,\n",
    "    'goalkeeper': 86,\n",
    "    'defence': 73,\n",
    "    'midfield': 73,\n",
    "    'offense': 69,\n",
    "}\n",
    "germany = {\n",
    "    'name': \"Germany\",\n",
    "    'rank': 11,\n",
    "    'goalkeeper': 90,\n",
    "    'defence': 82,\n",
    "    'midfield': 85,\n",
    "    'offense': 82,\n",
    "}\n",
    "japan = {\n",
    "    'name': \"Japan\",\n",
    "    'rank': 24,\n",
    "    'goalkeeper': 72,\n",
    "    'defence': 74,\n",
    "    'midfield': 77,\n",
    "    'offense': 76,\n",
    "}\n",
    "\n",
    "# Group F\n",
    "belgium = {\n",
    "    'name': \"Belgium\",\n",
    "    'rank': 2,\n",
    "    'goalkeeper': 90,\n",
    "    'defence': 80,\n",
    "    'midfield': 80,\n",
    "    'offense': 86,\n",
    "}\n",
    "canada = {\n",
    "    'name': \"Canada\",\n",
    "    'rank': 41,\n",
    "    'goalkeeper': 77,\n",
    "    'defence': 70,\n",
    "    'midfield': 73,\n",
    "    'offense': 75,\n",
    "}\n",
    "morocco = {\n",
    "    'name': \"Morocco\",\n",
    "    'rank': 2,\n",
    "    'goalkeeper': 84,\n",
    "    'defence': 78,\n",
    "    'midfield': 74,\n",
    "    'offense': 74,\n",
    "}\n",
    "croatia = {\n",
    "    'name': \"Croatia\",\n",
    "    'rank': 12,\n",
    "    'goalkeeper': 80,\n",
    "    'defence': 78,\n",
    "    'midfield': 83,\n",
    "    'offense': 80,\n",
    "}\n",
    "\n",
    "# Group G\n",
    "brazil = {\n",
    "    'name': \"Brazil\",\n",
    "    'rank': 1,\n",
    "    'goalkeeper': 82,\n",
    "    'defence': 80,\n",
    "    'midfield': 80,\n",
    "    'offense': 81,\n",
    "}\n",
    "serbia = {\n",
    "    'name': \"Serbia\",\n",
    "    'rank': 21,\n",
    "    'goalkeeper': 74,\n",
    "    'defence': 76,\n",
    "    'midfield': 79,\n",
    "    'offense': 75,\n",
    "}\n",
    "switzerland = {\n",
    "    'name': \"Switzerland\",\n",
    "    'rank': 15,\n",
    "    'goalkeeper': 84,\n",
    "    'defence': 75,\n",
    "    'midfield': 78,\n",
    "    'offense': 75,\n",
    "}\n",
    "cameroon = {\n",
    "    'name': \"Cameroon\",\n",
    "    'rank': 43,\n",
    "    'goalkeeper': 67,\n",
    "    'defence': 70,\n",
    "    'midfield': 71,\n",
    "    'offense': 72,\n",
    "}\n",
    "\n",
    "# Group H\n",
    "portugal = {\n",
    "    'name': \"Portugal\",\n",
    "    'rank': 9,\n",
    "    'goalkeeper': 82,\n",
    "    'defence': 84,\n",
    "    'midfield': 84,\n",
    "    'offense': 84,\n",
    "}\n",
    "ghana = {\n",
    "    'name': \"Ghana\",\n",
    "    'rank': 61,\n",
    "    'goalkeeper': 70,\n",
    "    'defence': 73,\n",
    "    'midfield': 76,\n",
    "    'offense': 73,\n",
    "}\n",
    "uruguay = {\n",
    "    'name': \"Uruguay\",\n",
    "    'rank': 14,\n",
    "    'goalkeeper': 80,\n",
    "    'defence': 78,\n",
    "    'midfield': 79,\n",
    "    'offense': 79,\n",
    "}\n",
    "korea = {\n",
    "    'name': \"Korea Republic\",\n",
    "    'rank': 28,\n",
    "    'goalkeeper': 69,\n",
    "    'defence': 70,\n",
    "    'midfield': 74,\n",
    "    'offense': 74,\n",
    "}\n",
    "\n"
   ],
   "metadata": {
    "collapsed": false
   }
  },
  {
   "cell_type": "markdown",
   "source": [
    "### Group Stage"
   ],
   "metadata": {
    "collapsed": false
   }
  },
  {
   "cell_type": "code",
   "execution_count": 143,
   "outputs": [
    {
     "name": "stdout",
     "output_type": "stream",
     "text": [
      "[0.3143354  0.3367357  0.34892884]\n"
     ]
    },
    {
     "data": {
      "text/plain": "'Ecuador'"
     },
     "execution_count": 143,
     "metadata": {},
     "output_type": "execute_result"
    }
   ],
   "source": [
    "prediction(qatar, ecuador)\n",
    "# Ecuador ✔"
   ],
   "metadata": {
    "collapsed": false
   }
  },
  {
   "cell_type": "code",
   "execution_count": 144,
   "outputs": [
    {
     "name": "stdout",
     "output_type": "stream",
     "text": [
      "[0.31538025 0.40614957 0.27847016]\n"
     ]
    },
    {
     "data": {
      "text/plain": "'England'"
     },
     "execution_count": 144,
     "metadata": {},
     "output_type": "execute_result"
    }
   ],
   "source": [
    "prediction(england, iran)\n",
    "# England ✔"
   ],
   "metadata": {
    "collapsed": false
   }
  },
  {
   "cell_type": "code",
   "execution_count": 145,
   "outputs": [
    {
     "name": "stdout",
     "output_type": "stream",
     "text": [
      "[0.32317415 0.29301572 0.38381007]\n"
     ]
    },
    {
     "data": {
      "text/plain": "'Netherlands'"
     },
     "execution_count": 145,
     "metadata": {},
     "output_type": "execute_result"
    }
   ],
   "source": [
    "prediction(senegal, netherlands)\n",
    "# Netherlands ✔"
   ],
   "metadata": {
    "collapsed": false
   }
  },
  {
   "cell_type": "code",
   "execution_count": 146,
   "outputs": [
    {
     "name": "stdout",
     "output_type": "stream",
     "text": [
      "[0.31782323 0.34455407 0.3376227 ]\n"
     ]
    },
    {
     "data": {
      "text/plain": "'Draw'"
     },
     "execution_count": 146,
     "metadata": {},
     "output_type": "execute_result"
    }
   ],
   "source": [
    "prediction(usa, wales)\n",
    "# Draw ✔"
   ],
   "metadata": {
    "collapsed": false
   }
  },
  {
   "cell_type": "code",
   "execution_count": 147,
   "outputs": [
    {
     "name": "stdout",
     "output_type": "stream",
     "text": [
      "[0.31313965 0.3972026  0.28965768]\n"
     ]
    },
    {
     "data": {
      "text/plain": "'Argentina'"
     },
     "execution_count": 147,
     "metadata": {},
     "output_type": "execute_result"
    }
   ],
   "source": [
    "prediction(argentina, saudi_arabia)\n",
    "# Argentina ❌ (Saudi Arabia)"
   ],
   "metadata": {
    "collapsed": false
   }
  },
  {
   "cell_type": "code",
   "execution_count": 148,
   "outputs": [
    {
     "name": "stdout",
     "output_type": "stream",
     "text": [
      "[0.3161321  0.37841344 0.30545446]\n"
     ]
    },
    {
     "data": {
      "text/plain": "'Denmark'"
     },
     "execution_count": 148,
     "metadata": {},
     "output_type": "execute_result"
    }
   ],
   "source": [
    "prediction(denmark, tunisia)\n",
    "# Denmark ❌ (Draw)"
   ],
   "metadata": {
    "collapsed": false
   }
  },
  {
   "cell_type": "code",
   "execution_count": 149,
   "outputs": [
    {
     "name": "stdout",
     "output_type": "stream",
     "text": [
      "[0.3178255  0.34830073 0.3338738 ]\n"
     ]
    },
    {
     "data": {
      "text/plain": "'Mexico'"
     },
     "execution_count": 149,
     "metadata": {},
     "output_type": "execute_result"
    }
   ],
   "source": [
    "prediction(mexico, poland)\n",
    "# Mexico ❌ (Draw)"
   ],
   "metadata": {
    "collapsed": false
   }
  },
  {
   "cell_type": "code",
   "execution_count": 150,
   "outputs": [
    {
     "name": "stdout",
     "output_type": "stream",
     "text": [
      "[0.31053615 0.4144877  0.27497622]\n"
     ]
    },
    {
     "data": {
      "text/plain": "'France'"
     },
     "execution_count": 150,
     "metadata": {},
     "output_type": "execute_result"
    }
   ],
   "source": [
    "prediction(france, australia)\n",
    "# France ✔"
   ],
   "metadata": {
    "collapsed": false
   }
  },
  {
   "cell_type": "code",
   "execution_count": 151,
   "outputs": [
    {
     "name": "stdout",
     "output_type": "stream",
     "text": [
      "[0.32052004 0.29505742 0.38442254]\n"
     ]
    },
    {
     "data": {
      "text/plain": "'Croatia'"
     },
     "execution_count": 151,
     "metadata": {},
     "output_type": "execute_result"
    }
   ],
   "source": [
    "prediction(morocco, croatia)\n",
    "# Croatia ❌ (Draw)"
   ],
   "metadata": {
    "collapsed": false
   }
  },
  {
   "cell_type": "code",
   "execution_count": 152,
   "outputs": [
    {
     "name": "stdout",
     "output_type": "stream",
     "text": [
      "[0.31289208 0.4068876  0.28022036]\n"
     ]
    },
    {
     "data": {
      "text/plain": "'Germany'"
     },
     "execution_count": 152,
     "metadata": {},
     "output_type": "execute_result"
    }
   ],
   "source": [
    "prediction(germany, japan)\n",
    "# Germany ❌ (Japan)"
   ],
   "metadata": {
    "collapsed": false
   }
  },
  {
   "cell_type": "code",
   "execution_count": 153,
   "outputs": [
    {
     "name": "stdout",
     "output_type": "stream",
     "text": [
      "[0.32220417 0.36474663 0.31304923]\n"
     ]
    },
    {
     "data": {
      "text/plain": "'Spain'"
     },
     "execution_count": 153,
     "metadata": {},
     "output_type": "execute_result"
    }
   ],
   "source": [
    "prediction(spain, croatia)\n",
    "# Spain ✔"
   ],
   "metadata": {
    "collapsed": false
   }
  },
  {
   "cell_type": "code",
   "execution_count": 154,
   "outputs": [
    {
     "name": "stdout",
     "output_type": "stream",
     "text": [
      "[0.3092391  0.3892226  0.30153832]\n"
     ]
    },
    {
     "data": {
      "text/plain": "'Belgium'"
     },
     "execution_count": 154,
     "metadata": {},
     "output_type": "execute_result"
    }
   ],
   "source": [
    "prediction(belgium, canada)\n",
    "# Belgium ✔"
   ],
   "metadata": {
    "collapsed": false
   }
  },
  {
   "cell_type": "code",
   "execution_count": 155,
   "outputs": [
    {
     "name": "stdout",
     "output_type": "stream",
     "text": [
      "[0.31855908 0.36581713 0.31562376]\n"
     ]
    },
    {
     "data": {
      "text/plain": "'Switzerland'"
     },
     "execution_count": 155,
     "metadata": {},
     "output_type": "execute_result"
    }
   ],
   "source": [
    "prediction(switzerland, cameroon)\n",
    "# Switzerland ✔"
   ],
   "metadata": {
    "collapsed": false
   }
  },
  {
   "cell_type": "code",
   "execution_count": 156,
   "outputs": [
    {
     "name": "stdout",
     "output_type": "stream",
     "text": [
      "[0.31298724 0.37837884 0.30863392]\n"
     ]
    },
    {
     "data": {
      "text/plain": "'Uruguay'"
     },
     "execution_count": 156,
     "metadata": {},
     "output_type": "execute_result"
    }
   ],
   "source": [
    "prediction(uruguay, korea)\n",
    "# Uruguay ❌ (Draw)"
   ],
   "metadata": {
    "collapsed": false
   }
  },
  {
   "cell_type": "code",
   "execution_count": 157,
   "outputs": [
    {
     "name": "stdout",
     "output_type": "stream",
     "text": [
      "[0.315108   0.40989763 0.27499434]\n"
     ]
    },
    {
     "data": {
      "text/plain": "'Portugal'"
     },
     "execution_count": 157,
     "metadata": {},
     "output_type": "execute_result"
    }
   ],
   "source": [
    "prediction(portugal, ghana)\n",
    "# Portugal ✔"
   ],
   "metadata": {
    "collapsed": false
   }
  },
  {
   "cell_type": "code",
   "execution_count": 158,
   "outputs": [
    {
     "name": "stdout",
     "output_type": "stream",
     "text": [
      "[0.31174487 0.37201968 0.3162354 ]\n"
     ]
    },
    {
     "data": {
      "text/plain": "'Brazil'"
     },
     "execution_count": 158,
     "metadata": {},
     "output_type": "execute_result"
    }
   ],
   "source": [
    "prediction(brazil, serbia)\n",
    "# Brazil ✔"
   ],
   "metadata": {
    "collapsed": false
   }
  },
  {
   "cell_type": "code",
   "execution_count": 159,
   "outputs": [
    {
     "name": "stdout",
     "output_type": "stream",
     "text": [
      "[0.31666628 0.34765705 0.33567667]\n"
     ]
    },
    {
     "data": {
      "text/plain": "'Wales'"
     },
     "execution_count": 159,
     "metadata": {},
     "output_type": "execute_result"
    }
   ],
   "source": [
    "prediction(wales, iran)\n",
    "# Wales ❌ (Draw)"
   ],
   "metadata": {
    "collapsed": false
   }
  },
  {
   "cell_type": "code",
   "execution_count": 160,
   "outputs": [
    {
     "name": "stdout",
     "output_type": "stream",
     "text": [
      "[0.3144089  0.31019896 0.37539214]\n"
     ]
    },
    {
     "data": {
      "text/plain": "'Senegal'"
     },
     "execution_count": 160,
     "metadata": {},
     "output_type": "execute_result"
    }
   ],
   "source": [
    "prediction(qatar, senegal)\n",
    "# Senegal ✔"
   ],
   "metadata": {
    "collapsed": false
   }
  },
  {
   "cell_type": "code",
   "execution_count": 161,
   "outputs": [
    {
     "name": "stdout",
     "output_type": "stream",
     "text": [
      "[0.31005478 0.39536518 0.29458004]\n"
     ]
    },
    {
     "data": {
      "text/plain": "'Netherlands'"
     },
     "execution_count": 161,
     "metadata": {},
     "output_type": "execute_result"
    }
   ],
   "source": [
    "prediction(netherlands, ecuador)"
   ],
   "metadata": {
    "collapsed": false
   }
  },
  {
   "cell_type": "code",
   "execution_count": 162,
   "outputs": [
    {
     "name": "stdout",
     "output_type": "stream",
     "text": [
      "[0.31433216 0.4072838  0.27838403]\n"
     ]
    },
    {
     "data": {
      "text/plain": "'England'"
     },
     "execution_count": 162,
     "metadata": {},
     "output_type": "execute_result"
    }
   ],
   "source": [
    "prediction(england, usa)"
   ],
   "metadata": {
    "collapsed": false
   }
  },
  {
   "cell_type": "markdown",
   "source": [
    "# Para el final\n",
    "SHAPLEY VALUES -> Libreria que te calcula eso (explica la predicción)\n",
    "EL fixture terminado\n",
    "HYPER OPT -> prueba muchos parametros -> bayesian optimization"
   ],
   "metadata": {
    "collapsed": false
   }
  }
 ],
 "metadata": {
  "kernelspec": {
   "display_name": "Python 3",
   "language": "python",
   "name": "python3"
  },
  "language_info": {
   "codemirror_mode": {
    "name": "ipython",
    "version": 2
   },
   "file_extension": ".py",
   "mimetype": "text/x-python",
   "name": "python",
   "nbconvert_exporter": "python",
   "pygments_lexer": "ipython2",
   "version": "2.7.6"
  }
 },
 "nbformat": 4,
 "nbformat_minor": 0
}
